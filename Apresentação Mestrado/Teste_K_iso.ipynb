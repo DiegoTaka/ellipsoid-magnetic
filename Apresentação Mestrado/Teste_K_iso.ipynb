{
 "cells": [
  {
   "cell_type": "code",
   "execution_count": 2,
   "metadata": {
    "collapsed": false
   },
   "outputs": [],
   "source": [
    "\"\"\"\n",
    "GravMag: 3D forward modeling of total-field magnetic anomaly using triaxial\n",
    "ellipsoids (model with induced and remanent magnetization)\n",
    "\"\"\"\n",
    "import numpy as np\n",
    "from matplotlib import pyplot as plt\n",
    "import matplotlib\n",
    "%matplotlib inline\n",
    "from fatiando import mesher, gridder, utils\n",
    "from fatiando.gravmag import ellipsoid_triaxial,ellipsoid_triaxial2,ellipsoid_prolate,ellipsoid_oblate"
   ]
  },
  {
   "cell_type": "code",
   "execution_count": 3,
   "metadata": {
    "collapsed": true
   },
   "outputs": [],
   "source": [
    "# The regional field\n",
    "inten,inc, dec = 60000., 30, -15\n",
    "F_unit = utils.ang2vec(1, inc, dec)\n",
    "\n",
    "bounds = [-5000, 5000, -5000, 5000, 0, 5000]\n",
    "# Create a regular grid at 100m height\n",
    "shape = (200, 200)\n",
    "area = bounds[:4]\n",
    "xp, yp, zp = gridder.regular(area, shape, z=0)"
   ]
  },
  {
   "cell_type": "markdown",
   "metadata": {},
   "source": [
    "## Triaxial"
   ]
  },
  {
   "cell_type": "code",
   "execution_count": 4,
   "metadata": {
    "collapsed": false
   },
   "outputs": [],
   "source": [
    "I_l = []\n",
    "D_l = []\n",
    "k_l = np.linspace(0.0001, 0.5, 100)\n",
    "\n",
    "for k in k_l:\n",
    "    model = [mesher.EllipsoidTriaxial(0.,0.,500.,500.,100.,50.,0.,0.,0., \n",
    "                                     {'remanence': [0., 0., 0.],\n",
    "                                      'k': [k, k, k, 0., 90., 90.]})]\n",
    "\n",
    "    # Calculate the anomaly for a given regional field\n",
    "    tf,N1,N2,N3,JRD_ang = ellipsoid_triaxial.tf_c(xp,yp,zp,inten,inc,dec,model)\n",
    "    I_l.append(JRD_ang[1])\n",
    "    D_l.append(JRD_ang[2])\n",
    "\n",
    "cte_inc = np.zeros_like(I_l) + inc\n",
    "cte_dec = np.zeros_like(I_l) + dec\n",
    "k_l = k_l"
   ]
  },
  {
   "cell_type": "code",
   "execution_count": 5,
   "metadata": {
    "collapsed": false
   },
   "outputs": [
    {
     "data": {
      "text/plain": [
       "array([ 0.68445636])"
      ]
     },
     "execution_count": 5,
     "metadata": {},
     "output_type": "execute_result"
    }
   ],
   "source": [
    "(D_l[15]+D_l[17])/2.+15"
   ]
  },
  {
   "cell_type": "code",
   "execution_count": 6,
   "metadata": {
    "collapsed": false
   },
   "outputs": [
    {
     "data": {
      "text/plain": [
       "0.077088922153742925"
      ]
     },
     "execution_count": 6,
     "metadata": {},
     "output_type": "execute_result"
    }
   ],
   "source": [
    "chi_max = 0.05/N3\n",
    "chi_max"
   ]
  },
  {
   "cell_type": "code",
   "execution_count": 4,
   "metadata": {
    "collapsed": true
   },
   "outputs": [],
   "source": [
    "model = [mesher.EllipsoidTriaxial(0.,0.,500.,500.,100.,50.,0.,0.,0., \n",
    "                                     {'remanence': [0., 0., 0.],\n",
    "                                      'k': [0.077088922153742925, 0.077088922153742925, 0.077088922153742925, 0., 90., 90.]})]\n",
    "\n",
    "tf,N1,N2,N3,JRD_ang = ellipsoid_triaxial.tf_c(xp,yp,zp,inten,inc,dec,model)"
   ]
  },
  {
   "cell_type": "code",
   "execution_count": 14,
   "metadata": {
    "collapsed": false
   },
   "outputs": [
    {
     "data": {
      "text/plain": [
       "[3.6453945132060279, array([ 29.55497116]), array([-14.34616156])]"
      ]
     },
     "execution_count": 14,
     "metadata": {},
     "output_type": "execute_result"
    }
   ],
   "source": [
    "JRD_ang"
   ]
  },
  {
   "cell_type": "code",
   "execution_count": 15,
   "metadata": {
    "collapsed": false
   },
   "outputs": [],
   "source": [
    "mag_v = utils.ang2vec(3.6453945132060279, 29.55497116, -14.34616156)"
   ]
  },
  {
   "cell_type": "code",
   "execution_count": 18,
   "metadata": {
    "collapsed": false
   },
   "outputs": [],
   "source": [
    "mag_a = 0.077088922153742925*(inten/(4*np.pi*100))*F_unit"
   ]
  },
  {
   "cell_type": "code",
   "execution_count": 19,
   "metadata": {
    "collapsed": false
   },
   "outputs": [
    {
     "name": "stdout",
     "output_type": "stream",
     "text": [
      "epsilon = 1.593 percent\n"
     ]
    }
   ],
   "source": [
    "# relative error\n",
    "mag_max_norm = np.linalg.norm(mag_v, ord = 2)\n",
    "mag_max_approx_norm = np.linalg.norm(mag_a, ord = 2)\n",
    "delta_mag_max_norm = np.linalg.norm(mag_v - mag_a, ord = 2)\n",
    "\n",
    "epsilon_calculated = delta_mag_max_norm/mag_max_norm\n",
    "\n",
    "print 'epsilon = %.3f percent' % (epsilon_calculated*100)"
   ]
  },
  {
   "cell_type": "code",
   "execution_count": 9,
   "metadata": {
    "collapsed": false
   },
   "outputs": [
    {
     "data": {
      "image/png": "[encoded data removed]",
      "text/plain": [
       "<matplotlib.figure.Figure at 0x18898b38>"
      ]
     },
     "metadata": {},
     "output_type": "display_data"
    }
   ],
   "source": [
    "plt.figure(figsize=(15,10))\n",
    "axes = plt.gca()\n",
    "plt.plot([0.1,0.1], [-20.,35.], 'k-', linewidth=3.0)\n",
    "plt.plot([0.077088922153742925,0.077088922153742925], [-20.,35.], 'y-', linewidth=3.0)\n",
    "plt.plot(k_l,I_l, label='$I$', linewidth=3.0)\n",
    "plt.plot(k_l,D_l, label='$D$', linewidth=3.0)\n",
    "plt.plot(k_l,cte_inc, '--k', label='$I_{0}$', linewidth=3.0 )\n",
    "plt.plot(k_l,cte_dec, '--r', label='$D_{0}$', linewidth=3.0)\n",
    "plt.legend(loc='best', ncol=4, fontsize=28)\n",
    "plt.ylabel('($^{\\circ}$)', fontsize=30)\n",
    "plt.xlabel('$\\chi$', fontsize=30)\n",
    "axes.set_ylim(-20.,35.)\n",
    "#axes.set_xlim([0,5])\n",
    "matplotlib.rcParams.update({'font.size': 24})\n",
    "plt.tight_layout()\n",
    "plt.savefig('test_k_triaxial.jpeg', dpi = 600, facecolor='w', bbox_inches='tight')"
   ]
  },
  {
   "cell_type": "code",
   "execution_count": 65,
   "metadata": {
    "collapsed": true
   },
   "outputs": [],
   "source": [
    "c = 50.\n",
    "m_l = np.linspace(1.02, 5, 50)\n",
    "N3_l = []\n",
    "ac = (m_l*c)/c"
   ]
  },
  {
   "cell_type": "code",
   "execution_count": 66,
   "metadata": {
    "collapsed": false
   },
   "outputs": [],
   "source": [
    "for m in m_l:\n",
    "    model = [mesher.EllipsoidTriaxial(0.,0.,1000,c*m,c*1.01,c,0.,0.,0., \n",
    "                                     {'remanence': [0., 0., 0.],\n",
    "                                      'k': [0, 0, 0, 0., 90., 90.]})]\n",
    "\n",
    "    # Calculate the anomaly for a given regional field\n",
    "    tf,N1,N2,N3,JRD_ang = ellipsoid_triaxial.tf_c(xp,yp,zp,inten,inc,dec,model)\n",
    "    N3_l.append(N3)"
   ]
  },
  {
   "cell_type": "code",
   "execution_count": 67,
   "metadata": {
    "collapsed": true
   },
   "outputs": [],
   "source": [
    "N3_a = np.zeros_like(N3_l) + N3_l"
   ]
  },
  {
   "cell_type": "code",
   "execution_count": 68,
   "metadata": {
    "collapsed": false
   },
   "outputs": [
    {
     "data": {
      "text/plain": [
       "array([ 0.33730594,  0.34739932,  0.35653753,  0.36484115,  0.37241195,\n",
       "        0.37933636,  0.38568822,  0.39153089,  0.39691908,  0.40190018,\n",
       "        0.40651546,  0.41080098,  0.4147884 ,  0.41850558,  0.42197715,\n",
       "        0.42522495,  0.42826839,  0.43112478,  0.43380962,  0.43633678,\n",
       "        0.43871875,  0.44096679,  0.44309104,  0.44510071,  0.44700415,\n",
       "        0.44880892,  0.45052195,  0.45214953,  0.45369741,  0.45517089,\n",
       "        0.45657478,  0.45791354,  0.45919125,  0.46041167,  0.46157829,\n",
       "        0.46269431,  0.4637627 ,  0.46478622,  0.46576741,  0.46670865,\n",
       "        0.46761213,  0.46847992,  0.46931391,  0.4701159 ,  0.47088755,\n",
       "        0.47163041,  0.47234594,  0.4730355 ,  0.47370037,  0.47434175])"
      ]
     },
     "execution_count": 68,
     "metadata": {},
     "output_type": "execute_result"
    }
   ],
   "source": [
    "N3_a"
   ]
  },
  {
   "cell_type": "code",
   "execution_count": 69,
   "metadata": {
    "collapsed": false
   },
   "outputs": [],
   "source": [
    "chi_max5 = 0.05/N3_a\n",
    "chi_max2 = 0.02/N3_a\n",
    "chi_max8 = 0.08/N3_a"
   ]
  },
  {
   "cell_type": "code",
   "execution_count": 71,
   "metadata": {
    "collapsed": false
   },
   "outputs": [
    {
     "data": {
      "image/png": "[encoded data removed]",
      "text/plain": [
       "<matplotlib.figure.Figure at 0x18ffa780>"
      ]
     },
     "metadata": {},
     "output_type": "display_data"
    }
   ],
   "source": [
    "plt.figure(figsize=(15,10))\n",
    "plt.plot(ac, chi_max2, 'y-', linewidth=3.0, label='$2\\%$')\n",
    "plt.plot(ac, chi_max5, 'r-', linewidth=3.0, label='$5\\%$')\n",
    "plt.plot(ac, chi_max8, 'b-', linewidth=3.0, label='$8\\%$')\n",
    "plt.legend(loc='best', ncol=4, fontsize=28)\n",
    "plt.xlabel('$a/c$', fontsize=30)\n",
    "plt.ylabel('$\\chi_{max}$', fontsize=30)\n",
    "#axes.set_ylim(-20.,35.)\n",
    "#axes.set_xlim([0,5])\n",
    "matplotlib.rcParams.update({'font.size': 22})\n",
    "plt.tight_layout()\n",
    "plt.savefig('test_chi_max.jpeg', dpi = 600, facecolor='w', bbox_inches='tight')"
   ]
  },
  {
   "cell_type": "code",
   "execution_count": null,
   "metadata": {
    "collapsed": true
   },
   "outputs": [],
   "source": []
  }
 ],
 "metadata": {
  "anaconda-cloud": {},
  "kernelspec": {
   "display_name": "Python 2",
   "language": "python",
   "name": "python2"
  },
  "language_info": {
   "codemirror_mode": {
    "name": "ipython",
    "version": 2
   },
   "file_extension": ".py",
   "mimetype": "text/x-python",
   "name": "python",
   "nbconvert_exporter": "python",
   "pygments_lexer": "ipython2",
   "version": "2.7.12"
  }
 },
 "nbformat": 4,
 "nbformat_minor": 1
}
