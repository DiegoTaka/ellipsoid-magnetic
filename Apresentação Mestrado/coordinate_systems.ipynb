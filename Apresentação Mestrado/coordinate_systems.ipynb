{
 "cells": [
  {
   "cell_type": "markdown",
   "metadata": {},
   "source": [
    "# Code for plotting ellipsoids"
   ]
  },
  {
   "cell_type": "code",
   "execution_count": 1,
   "metadata": {
    "collapsed": true
   },
   "outputs": [],
   "source": [
    "#%matplotlib inline"
   ]
  },
  {
   "cell_type": "code",
   "execution_count": 2,
   "metadata": {
    "collapsed": false
   },
   "outputs": [],
   "source": [
    "from mpl_toolkits.mplot3d import axes3d\n",
    "import matplotlib.pyplot as plt\n",
    "import numpy as np"
   ]
  },
  {
   "cell_type": "markdown",
   "metadata": {},
   "source": [
    "### Auxiliary functions"
   ]
  },
  {
   "cell_type": "code",
   "execution_count": 3,
   "metadata": {
    "collapsed": false
   },
   "outputs": [],
   "source": [
    "import plot_functions as pfun"
   ]
  },
  {
   "cell_type": "markdown",
   "metadata": {},
   "source": [
    "### Coordinate transformation matrix"
   ]
  },
  {
   "cell_type": "markdown",
   "metadata": {},
   "source": [
    "Let $(x, y, z)$ be a point refered to the Cartesian coordinate system shown below:"
   ]
  },
  {
   "cell_type": "markdown",
   "metadata": {
    "collapsed": false
   },
   "source": [
    "plt.close('all')\n",
    "fig = plt.figure(figsize=(5,5))\n",
    "plt.axis('scaled')\n",
    "ax = fig.gca(projection='3d')\n",
    "pfun.draw_main_system(ax, length_axes=10.)\n",
    "plt.tight_layout()\n",
    "plt.show()"
   ]
  },
  {
   "cell_type": "markdown",
   "metadata": {},
   "source": [
    "### 3D models"
   ]
  },
  {
   "cell_type": "code",
   "execution_count": 27,
   "metadata": {
    "collapsed": false
   },
   "outputs": [],
   "source": [
    "# Set of all spherical angles:\n",
    "u = np.linspace(0, 2 * np.pi, 300)\n",
    "v = np.linspace(0, np.pi, 300)\n",
    "\n",
    "# orientation angles (in degrees)\n",
    "strike = 90.\n",
    "dip = 45.\n",
    "rake = 0.\n",
    "\n",
    "plt.close('all')\n",
    "fig = plt.figure(figsize=(10,8))\n",
    "ax = fig.gca(projection='3d')\n",
    "\n",
    "# plot the main coordinate system\n",
    "pfun.draw_main_system(ax, length_axes=70., elev=230, azim=-0)\n",
    "\n",
    "# triaxial body\n",
    "#pfun.draw_ellipsoid(ax, 35., 35., 35., 25., 20., 20., strike, dip, rake, u, v,\n",
    "#               body_color=(1,1,0), body_alpha=0.3, plot_axes=True)\n",
    "\n",
    "# prolate body\n",
    "pfun.draw_ellipsoid(ax, 50., 35., 35., 15., 6., 6., strike, dip, rake, u, v,\n",
    "               body_color=(0,1,0), body_alpha=0.3, plot_axes=True)\n",
    "\n",
    "\n",
    "# oblate body\n",
    "#pfun.draw_ellipsoid(ax, 50., 35., 30., 15.0001, 15., 15., strike, dip, rake, u, v,\n",
    "#               body_color=(1,0,1), body_alpha=0.3, plot_axes=True)\n",
    "\n",
    "plt.tight_layout(True)\n",
    "\n",
    "#plt.savefig('ellipsoid_triaxial_shapeaniso_coord.jpeg', dpi = 600, facecolor='w', bbox_inches='tight')\n",
    "\n",
    "plt.show()"
   ]
  },
  {
   "cell_type": "code",
   "execution_count": null,
   "metadata": {
    "collapsed": true
   },
   "outputs": [],
   "source": []
  }
 ],
 "metadata": {
  "anaconda-cloud": {},
  "kernelspec": {
   "display_name": "Python 2",
   "language": "python",
   "name": "python2"
  },
  "language_info": {
   "codemirror_mode": {
    "name": "ipython",
    "version": 2
   },
   "file_extension": ".py",
   "mimetype": "text/x-python",
   "name": "python",
   "nbconvert_exporter": "python",
   "pygments_lexer": "ipython2",
   "version": "2.7.12"
  }
 },
 "nbformat": 4,
 "nbformat_minor": 0
}
