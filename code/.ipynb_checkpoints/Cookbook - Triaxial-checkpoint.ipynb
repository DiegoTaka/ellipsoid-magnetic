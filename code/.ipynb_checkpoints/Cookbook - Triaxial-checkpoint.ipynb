{
 "cells": [
  {
   "cell_type": "code",
   "execution_count": null,
   "metadata": {
    "collapsed": false
   },
   "outputs": [],
   "source": [
    "\"\"\"\n",
    "GravMag: 3D forward modeling of total-field magnetic anomaly using triaxial\n",
    "ellipsoids (model with induced and remanent magnetization)\n",
    "\"\"\"\n",
    "# Import the required modules\n",
    "from fatiando import mesher_v, gridder, utils\n",
    "from fatiando.gravmag import triaxial_ellipsoid\n",
    "from fatiando.vis import mpl\n",
    "\n",
    "# The local-geomagnetic field\n",
    "inten,inc, dec = 60000., 30, -15\n",
    "model = [mesher_v.TriaxialEllipsoid(-2500.,-2500.,500.,2000.,100.,50.,0.,0.,0., \n",
    "                                 {'remanence': [100, 90., 0.],\n",
    "                                  'k': [0.2, 0.1, 0.05, 0., 90., 90.]}),\n",
    "        mesher_v.TriaxialEllipsoid(2500.,2500.,500.,2000.,100.,50.,0.,0.,0., \n",
    "                                 {'remanence': [100, 90., 0.],\n",
    "                                  'k': [0.2, 0.1, 0.05, 0., 90., 90.]})]\n",
    "# Create a regular grid at 0m height\n",
    "shape = (200, 200)\n",
    "area = [-5000, 5000, -5000, 5000]\n",
    "xp, yp, zp = gridder.regular(area, shape, z=0)\n",
    "# Calculate the anomaly for a given regional field\n",
    "tf = triaxial_ellipsoid.tf(xp,yp,zp,model,inten,inc,dec)\n",
    "# Plot\n",
    "mpl.figure()\n",
    "mpl.title(\"Total-field anomaly (nT)\")\n",
    "mpl.axis('scaled')\n",
    "mpl.contourf(yp, xp, tf, shape, 15)\n",
    "mpl.colorbar()\n",
    "mpl.xlabel('East y (km)')\n",
    "mpl.ylabel('North x (km)')\n",
    "mpl.m2km()\n",
    "mpl.show()"
   ]
  },
  {
   "cell_type": "code",
   "execution_count": null,
   "metadata": {
    "collapsed": true
   },
   "outputs": [],
   "source": []
  }
 ],
 "metadata": {
  "anaconda-cloud": {},
  "kernelspec": {
   "display_name": "Python 2",
   "language": "python",
   "name": "python2"
  },
  "language_info": {
   "codemirror_mode": {
    "name": "ipython",
    "version": 2
   },
   "file_extension": ".py",
   "mimetype": "text/x-python",
   "name": "python",
   "nbconvert_exporter": "python",
   "pygments_lexer": "ipython2",
   "version": "2.7.12"
  }
 },
 "nbformat": 4,
 "nbformat_minor": 1
}
