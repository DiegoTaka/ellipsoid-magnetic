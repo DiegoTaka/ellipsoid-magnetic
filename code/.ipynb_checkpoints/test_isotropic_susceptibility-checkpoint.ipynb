{
 "cells": [
  {
   "cell_type": "markdown",
   "metadata": {},
   "source": [
    "# Verify equation 31"
   ]
  },
  {
   "cell_type": "markdown",
   "metadata": {},
   "source": [
    "### Import the required modules"
   ]
  },
  {
   "cell_type": "code",
   "execution_count": 1,
   "metadata": {
    "collapsed": false
   },
   "outputs": [],
   "source": [
    "%matplotlib inline\n",
    "import numpy as np\n",
    "from numpy.random import rand\n",
    "from matplotlib import pyplot as plt\n",
    "from matplotlib.colors import Normalize\n",
    "from matplotlib.colorbar import ColorbarBase\n",
    "from matplotlib.cm import get_cmap\n",
    "from fatiando import mesher, utils\n",
    "from fatiando.gravmag import triaxial_ellipsoid"
   ]
  },
  {
   "cell_type": "code",
   "execution_count": 2,
   "metadata": {
    "collapsed": true
   },
   "outputs": [],
   "source": [
    "# Set some plot parameters\n",
    "from matplotlib import rcParams\n",
    "rcParams['figure.dpi'] = 300.\n",
    "rcParams['font.size'] = 6\n",
    "rcParams['xtick.labelsize'] = 'medium'\n",
    "rcParams['ytick.labelsize'] = 'medium'\n",
    "rcParams['axes.labelsize'] = 'large'\n",
    "rcParams['legend.fontsize'] = 'medium'\n",
    "rcParams['savefig.dpi'] = 300."
   ]
  },
  {
   "cell_type": "markdown",
   "metadata": {},
   "source": [
    "### Randomly generated models"
   ]
  },
  {
   "cell_type": "code",
   "execution_count": 16,
   "metadata": {
    "collapsed": true
   },
   "outputs": [],
   "source": [
    "# isostropic susceptibility (in SI)\n",
    "k = 0.077088922153742925\n",
    "\n",
    "# Ellipsoid semi-axes (in m)\n",
    "a = 500\n",
    "b = 100\n",
    "c = 50\n",
    "\n",
    "# demagnetizing factors\n",
    "n11, n22, n33 = triaxial_ellipsoid.demag_factors(a, b, c)\n",
    "\n",
    "# orietation angles (in degrees)\n",
    "strike = 180.\n",
    "dip = 0.\n",
    "rake = 0.\n",
    "\n",
    "# auxiliary orientation angles (in radians)\n",
    "alpha, gamma, delta = triaxial_ellipsoid.structural_angles(strike, dip, rake)\n",
    "\n",
    "V = triaxial_ellipsoid.V(alpha, gamma, delta)"
   ]
  },
  {
   "cell_type": "code",
   "execution_count": 28,
   "metadata": {
    "collapsed": false
   },
   "outputs": [
    {
     "data": {
      "text/plain": [
       "0.64860162268557975"
      ]
     },
     "execution_count": 28,
     "metadata": {},
     "output_type": "execute_result"
    }
   ],
   "source": [
    "n33"
   ]
  },
  {
   "cell_type": "code",
   "execution_count": 17,
   "metadata": {
    "collapsed": false
   },
   "outputs": [],
   "source": [
    "F = 60000 # intensity (nT) of the local-geomagnetic field\n",
    "inc = 30 # inclination (degrees)\n",
    "dec = -15 # declination (degrees)"
   ]
  },
  {
   "cell_type": "code",
   "execution_count": 18,
   "metadata": {
    "collapsed": true
   },
   "outputs": [],
   "source": [
    "# Local-geomagnetic field\n",
    "F_unit = utils.ang2vec(1, inc, dec)\n",
    "\n",
    "# isotropic susceptibility tensor\n",
    "K = k*np.identity(3)"
   ]
  },
  {
   "cell_type": "markdown",
   "metadata": {},
   "source": [
    "### Magnetization"
   ]
  },
  {
   "cell_type": "code",
   "execution_count": 19,
   "metadata": {
    "collapsed": false
   },
   "outputs": [],
   "source": [
    "# in the local coordinate system\n",
    "mag = triaxial_ellipsoid.magnetization(K, F, inc, dec, 0., 0., 0., V, [a,b,c])\n",
    "\n",
    "# in the main coordinate system\n",
    "mag = np.dot(V, mag)"
   ]
  },
  {
   "cell_type": "code",
   "execution_count": 20,
   "metadata": {
    "collapsed": true
   },
   "outputs": [],
   "source": [
    "aux = np.array([1. - k*n11,\n",
    "                1. - k*n22,\n",
    "                1. - k*n33])\n",
    "Lambda = np.dot(V, np.dot(np.diag(1./aux), V.T))\n",
    "mag2 = np.dot(Lambda, k*(F/(4*np.pi*100))*F_unit)"
   ]
  },
  {
   "cell_type": "code",
   "execution_count": 21,
   "metadata": {
    "collapsed": false
   },
   "outputs": [
    {
     "data": {
      "text/plain": [
       "False"
      ]
     },
     "execution_count": 21,
     "metadata": {},
     "output_type": "execute_result"
    }
   ],
   "source": [
    "np.allclose(mag, mag2)"
   ]
  },
  {
   "cell_type": "code",
   "execution_count": 29,
   "metadata": {
    "collapsed": false
   },
   "outputs": [
    {
     "data": {
      "text/plain": [
       "[3.6266306536030735, 28.900711736817904, -14.692171478310154]"
      ]
     },
     "execution_count": 29,
     "metadata": {},
     "output_type": "execute_result"
    }
   ],
   "source": [
    "utils.vec2ang(mag)"
   ]
  },
  {
   "cell_type": "code",
   "execution_count": 30,
   "metadata": {
    "collapsed": false
   },
   "outputs": [
    {
     "data": {
      "text/plain": [
       "[3.7412390716954858, 31.184974996392089, -15.322363506454506]"
      ]
     },
     "execution_count": 30,
     "metadata": {},
     "output_type": "execute_result"
    }
   ],
   "source": [
    "utils.vec2ang(mag2)"
   ]
  },
  {
   "cell_type": "code",
   "execution_count": 32,
   "metadata": {
    "collapsed": true
   },
   "outputs": [],
   "source": [
    "mag3 = k*(F/(4*np.pi*100))*F_unit"
   ]
  },
  {
   "cell_type": "code",
   "execution_count": 35,
   "metadata": {
    "collapsed": false
   },
   "outputs": [
    {
     "data": {
      "text/plain": [
       "[3.6807249055183511, 30.000000000000004, -14.999999999999998]"
      ]
     },
     "execution_count": 35,
     "metadata": {},
     "output_type": "execute_result"
    }
   ],
   "source": [
    "utils.vec2ang(mag3)"
   ]
  },
  {
   "cell_type": "code",
   "execution_count": 38,
   "metadata": {
    "collapsed": false
   },
   "outputs": [
    {
     "name": "stdout",
     "output_type": "stream",
     "text": [
      "epsilon = 2.656 percent\n"
     ]
    }
   ],
   "source": [
    "# relative error\n",
    "mag_max_norm = np.linalg.norm(mag2, ord = 2)\n",
    "mag_max_approx_norm = np.linalg.norm(mag3, ord = 2)\n",
    "delta_mag_max_norm = np.linalg.norm(mag2 - mag3, ord = 2)\n",
    "\n",
    "epsilon_calculated = delta_mag_max_norm/mag_max_norm\n",
    "\n",
    "print 'epsilon = %.3f percent' % (epsilon_calculated*100)"
   ]
  },
  {
   "cell_type": "code",
   "execution_count": null,
   "metadata": {
    "collapsed": true
   },
   "outputs": [],
   "source": []
  }
 ],
 "metadata": {
  "anaconda-cloud": {},
  "kernelspec": {
   "display_name": "Python 2",
   "language": "python",
   "name": "python2"
  },
  "language_info": {
   "codemirror_mode": {
    "name": "ipython",
    "version": 2
   },
   "file_extension": ".py",
   "mimetype": "text/x-python",
   "name": "python",
   "nbconvert_exporter": "python",
   "pygments_lexer": "ipython2",
   "version": "2.7.12"
  }
 },
 "nbformat": 4,
 "nbformat_minor": 1
}
